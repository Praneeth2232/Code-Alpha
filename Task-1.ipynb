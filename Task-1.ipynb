{
 "cells": [
  {
   "cell_type": "code",
   "execution_count": 5,
   "id": "a4ff8d62-3cad-4676-8cec-a7dd07f656a5",
   "metadata": {},
   "outputs": [
    {
     "name": "stdout",
     "output_type": "stream",
     "text": [
      "AI-Language Translator Tool\n"
     ]
    },
    {
     "name": "stdin",
     "output_type": "stream",
     "text": [
      "Enter source language (e.g., 'Auto-detect', 'English'):  Auto-detect\n",
      "Enter target language (e.g., 'English'):  French\n",
      "Enter text to translate:  Hii I am a student.\n"
     ]
    },
    {
     "name": "stdout",
     "output_type": "stream",
     "text": [
      "\n",
      "Translated text: Salut je suis étudiant.\n"
     ]
    }
   ],
   "source": [
    "from googletrans import Translator, LANGUAGES\n",
    "\n",
    "class TextTranslator:\n",
    "    def __init__(self):\n",
    "        self.translator = Translator()\n",
    "\n",
    "        # Create a dictionary with capitalized language names for display\n",
    "        self.lang_display = {lang.capitalize(): code for code, lang in LANGUAGES.items()}\n",
    "        self.lang_display[\"Auto-detect\"] = \"auto\"  # Add Auto-detect option\n",
    "\n",
    "    def translate_text(self, source_lang, target_lang, text_to_translate):\n",
    "        try:\n",
    "            # Map selected languages to their codes\n",
    "            source = self.lang_display[source_lang]\n",
    "            target = self.lang_display[target_lang]\n",
    "\n",
    "            if not text_to_translate:\n",
    "                return \"Please enter text to translate.\"\n",
    "\n",
    "            # Perform translation\n",
    "            translation = self.translator.translate(text_to_translate, src=source, dest=target)\n",
    "            return translation.text\n",
    "\n",
    "        except Exception as e:\n",
    "            return f\"Some Error Occurred: {e}\"\n",
    "\n",
    "# CLI interaction\n",
    "def main():\n",
    "    translator = TextTranslator()\n",
    "\n",
    "    print(\"AI-Language Translator Tool\")    \n",
    "    # Get user input\n",
    "    source_lang = input(\"Enter source language (e.g., 'Auto-detect', 'English'): \")\n",
    "    target_lang = input(\"Enter target language (e.g., 'English'): \")\n",
    "    text_to_translate = input(\"Enter text to translate: \")\n",
    "\n",
    "    # Translate text\n",
    "    translation = translator.translate_text(source_lang, target_lang, text_to_translate)\n",
    "    print(\"\\nTranslated text:\", translation)\n",
    "\n",
    "if __name__ == \"__main__\":\n",
    "    main()\n"
   ]
  },
  {
   "cell_type": "code",
   "execution_count": null,
   "id": "9d737246-e0b3-426d-bbdd-d70f725bdb9a",
   "metadata": {},
   "outputs": [],
   "source": []
  }
 ],
 "metadata": {
  "kernelspec": {
   "display_name": "Python 3 (ipykernel)",
   "language": "python",
   "name": "python3"
  },
  "language_info": {
   "codemirror_mode": {
    "name": "ipython",
    "version": 3
   },
   "file_extension": ".py",
   "mimetype": "text/x-python",
   "name": "python",
   "nbconvert_exporter": "python",
   "pygments_lexer": "ipython3",
   "version": "3.12.3"
  }
 },
 "nbformat": 4,
 "nbformat_minor": 5
}
